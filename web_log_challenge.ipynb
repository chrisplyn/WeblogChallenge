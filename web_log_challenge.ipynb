{
 "cells": [
  {
   "cell_type": "code",
   "execution_count": 1,
   "metadata": {},
   "outputs": [],
   "source": [
    "from IPython.core.magic import register_cell_magic\n",
    "import importlib\n",
    "\n",
    "@register_cell_magic\n",
    "def spark_class(line, cell):\n",
    "    module = line.strip()\n",
    "    f = \"{0}.py\".format(module)\n",
    "\n",
    "    with open(f, \"w\") as fw:\n",
    "        fw.write(cell)\n",
    "\n",
    "    globals()[module] = importlib.import_module(module)\n",
    "    sc.addPyFile(f)"
   ]
  },
  {
   "cell_type": "code",
   "execution_count": 2,
   "metadata": {},
   "outputs": [],
   "source": [
    "%%spark_class session\n",
    "class Session:\n",
    "    def __init__(self, IP, sessionNumUrls,sessionLengthInMinutes):\n",
    "        self.IP = IP\n",
    "        self.sessionNumUrls = sessionNumUrls\n",
    "        self.sessionLengthInMinutes = sessionLengthInMinutes"
   ]
  },
  {
   "cell_type": "code",
   "execution_count": 3,
   "metadata": {},
   "outputs": [],
   "source": [
    "rdd = sc.textFile('data/2015_07_22_mktplace_shop_web_log_sample.log')\n",
    "rdd = rdd.map(lambda x: x.split(\" \"))"
   ]
  },
  {
   "cell_type": "code",
   "execution_count": 4,
   "metadata": {
    "scrolled": true
   },
   "outputs": [],
   "source": [
    "from pyspark.sql import Row\n",
    "from pyspark.sql.types import *\n",
    "from pyspark.sql.functions import *\n",
    "import dateutil.parser\n",
    "\n",
    "#sort data by IP address then timestamp\n",
    "rdd_sorted = rdd.map(lambda x: (x[2].split(':')[0],Row(timestamp=dateutil.parser.parse(x[0]),url=x[12])))"
   ]
  },
  {
   "cell_type": "code",
   "execution_count": 27,
   "metadata": {},
   "outputs": [],
   "source": [
    "grouped = rdd_sorted.map(lambda x:(x[0],[x[1]])).reduceByKey(lambda p,q: p+q)"
   ]
  },
  {
   "cell_type": "code",
   "execution_count": 30,
   "metadata": {
    "scrolled": true
   },
   "outputs": [],
   "source": [
    "#group data by IP, group:RDD[(IP, [rows])]\n",
    "grouped_sorted = grouped.map(lambda x:(x[0],sorted(x[1],key=lambda row:row.timestamp)))"
   ]
  },
  {
   "cell_type": "code",
   "execution_count": 31,
   "metadata": {},
   "outputs": [
    {
     "data": {
      "text/plain": [
       "[('117.198.215.20',\n",
       "  [Row(timestamp=datetime.datetime(2015, 7, 22, 9, 0, 28, 57527, tzinfo=tzutc()), url='https://paytm.com:443/blog/wp-content/themes/svbtle/style.css'),\n",
       "   Row(timestamp=datetime.datetime(2015, 7, 22, 9, 0, 29, 46982, tzinfo=tzutc()), url='https://paytm.com:443/blog/wp-content/plugins/jetpack/css/jetpack.css?ver=3.5.3')]),\n",
       " ('182.66.58.248',\n",
       "  [Row(timestamp=datetime.datetime(2015, 7, 22, 9, 0, 28, 62804, tzinfo=tzutc()), url='https://paytm.com:443/shop/action'),\n",
       "   Row(timestamp=datetime.datetime(2015, 7, 22, 9, 3, 23, 302978, tzinfo=tzutc()), url='https://paytm.com:443/shop/wallet/balance'),\n",
       "   Row(timestamp=datetime.datetime(2015, 7, 22, 9, 3, 23, 332664, tzinfo=tzutc()), url='https://paytm.com:443/shop/user/address'),\n",
       "   Row(timestamp=datetime.datetime(2015, 7, 22, 9, 3, 24, 851943, tzinfo=tzutc()), url='https://paytm.com:443/shop/logout'),\n",
       "   Row(timestamp=datetime.datetime(2015, 7, 22, 9, 3, 25, 92509, tzinfo=tzutc()), url='https://paytm.com:443/shop'),\n",
       "   Row(timestamp=datetime.datetime(2015, 7, 22, 9, 3, 32, 401928, tzinfo=tzutc()), url='https://paytm.com:443/shop/cart'),\n",
       "   Row(timestamp=datetime.datetime(2015, 7, 22, 16, 11, 30, 910708, tzinfo=tzutc()), url='https://paytm.com:443/shop/orderdetail/1074341152?actions=1'),\n",
       "   Row(timestamp=datetime.datetime(2015, 7, 22, 16, 11, 55, 691774, tzinfo=tzutc()), url='https://paytm.com:443/shop/v1/frequentorders'),\n",
       "   Row(timestamp=datetime.datetime(2015, 7, 22, 16, 12, 43, 311522, tzinfo=tzutc()), url='https://paytm.com:443/shop/orderdetail/1074341152?actions=1'),\n",
       "   Row(timestamp=datetime.datetime(2015, 7, 22, 16, 12, 44, 672681, tzinfo=tzutc()), url='https://paytm.com:443/shop/orderdetail/1074341152?actions=1'),\n",
       "   Row(timestamp=datetime.datetime(2015, 7, 22, 16, 12, 59, 752052, tzinfo=tzutc()), url='https://paytm.com:443/shop/orderdetail/1074341152?actions=1'),\n",
       "   Row(timestamp=datetime.datetime(2015, 7, 22, 16, 13, 48, 574251, tzinfo=tzutc()), url='https://paytm.com:443/shop/orderdetail/1074341152?actions=1'),\n",
       "   Row(timestamp=datetime.datetime(2015, 7, 22, 16, 13, 49, 353695, tzinfo=tzutc()), url='https://paytm.com:443/shop/orderhistory?pagesize=10'),\n",
       "   Row(timestamp=datetime.datetime(2015, 7, 22, 16, 13, 50, 95427, tzinfo=tzutc()), url='https://paytm.com:443/shop/orderhistory?pagesize=10'),\n",
       "   Row(timestamp=datetime.datetime(2015, 7, 22, 16, 13, 51, 614032, tzinfo=tzutc()), url='https://paytm.com:443/shop/orderhistory?pagesize=10'),\n",
       "   Row(timestamp=datetime.datetime(2015, 7, 22, 16, 13, 51, 614099, tzinfo=tzutc()), url='https://paytm.com:443/shop/orderhistory?pagesize=10'),\n",
       "   Row(timestamp=datetime.datetime(2015, 7, 22, 16, 13, 52, 394416, tzinfo=tzutc()), url='https://paytm.com:443/shop/orderhistory?pagesize=10'),\n",
       "   Row(timestamp=datetime.datetime(2015, 7, 22, 16, 13, 52, 694211, tzinfo=tzutc()), url='https://paytm.com:443/shop/orderhistory?pagesize=10'),\n",
       "   Row(timestamp=datetime.datetime(2015, 7, 22, 16, 13, 52, 913748, tzinfo=tzutc()), url='https://paytm.com:443/shop/orderhistory?pagesize=10'),\n",
       "   Row(timestamp=datetime.datetime(2015, 7, 22, 16, 13, 53, 533367, tzinfo=tzutc()), url='https://paytm.com:443/shop/wallet/balance'),\n",
       "   Row(timestamp=datetime.datetime(2015, 7, 22, 16, 13, 53, 893195, tzinfo=tzutc()), url='https://paytm.com:443/shop/wallet/txnhistory?page_size=10&page_number=0'),\n",
       "   Row(timestamp=datetime.datetime(2015, 7, 22, 16, 14, 41, 195863, tzinfo=tzutc()), url='https://paytm.com:443/shop/wallet/balance'),\n",
       "   Row(timestamp=datetime.datetime(2015, 7, 22, 16, 14, 41, 295230, tzinfo=tzutc()), url='https://paytm.com:443/shop/wallet/txnhistory?page_size=10&page_number=0'),\n",
       "   Row(timestamp=datetime.datetime(2015, 7, 22, 16, 14, 50, 893729, tzinfo=tzutc()), url='https://paytm.com:443/shop/v1/frequentorders')]),\n",
       " ('14.139.243.18',\n",
       "  [Row(timestamp=datetime.datetime(2015, 7, 22, 9, 0, 28, 74266, tzinfo=tzutc()), url='https://paytm.com:443/shop/v1/frequentorders?channel=web&version=2'),\n",
       "   Row(timestamp=datetime.datetime(2015, 7, 22, 9, 0, 42, 957175, tzinfo=tzutc()), url='https://paytm.com:443/papi/v1/expresscart/verify'),\n",
       "   Row(timestamp=datetime.datetime(2015, 7, 22, 9, 1, 6, 179263, tzinfo=tzutc()), url='https://paytm.com:443/api/v1/expresscart/checkout?wallet=1'),\n",
       "   Row(timestamp=datetime.datetime(2015, 7, 22, 9, 2, 58, 262823, tzinfo=tzutc()), url='https://paytm.com:443/shop/summary/1116227904'),\n",
       "   Row(timestamp=datetime.datetime(2015, 7, 22, 9, 3, 1, 750789, tzinfo=tzutc()), url='https://paytm.com:443/shop/cart?channel=web&version=2'),\n",
       "   Row(timestamp=datetime.datetime(2015, 7, 22, 9, 3, 2, 456538, tzinfo=tzutc()), url='https://paytm.com:443/shop/orderdetail/1116227904?channel=web&version=2'),\n",
       "   Row(timestamp=datetime.datetime(2015, 7, 22, 9, 3, 2, 962573, tzinfo=tzutc()), url='https://paytm.com:443/api/user/favourite?channel=web&version=2'),\n",
       "   Row(timestamp=datetime.datetime(2015, 7, 22, 9, 3, 3, 89532, tzinfo=tzutc()), url='https://paytm.com:443/images/greyStar.png'),\n",
       "   Row(timestamp=datetime.datetime(2015, 7, 22, 9, 3, 11, 686355, tzinfo=tzutc()), url='https://paytm.com:443/shop/v1/frequentorders?channel=web&version=2')]),\n",
       " ('106.220.161.208',\n",
       "  [Row(timestamp=datetime.datetime(2015, 7, 22, 9, 0, 28, 137948, tzinfo=tzutc()), url='https://paytm.com:443/shop/login?isIframe=true&theme=mp-web')]),\n",
       " ('182.64.106.42',\n",
       "  [Row(timestamp=datetime.datetime(2015, 7, 22, 9, 0, 28, 173383, tzinfo=tzutc()), url='https://paytm.com:443/'),\n",
       "   Row(timestamp=datetime.datetime(2015, 7, 22, 9, 0, 28, 911200, tzinfo=tzutc()), url='https://paytm.com:443/shop/v1/frequentorders?channel=web&version=2'),\n",
       "   Row(timestamp=datetime.datetime(2015, 7, 22, 9, 0, 29, 106872, tzinfo=tzutc()), url='https://paytm.com:443/shop/cart?channel=web&version=2'),\n",
       "   Row(timestamp=datetime.datetime(2015, 7, 22, 9, 0, 47, 959980, tzinfo=tzutc()), url='https://paytm.com:443/papi/v1/expresscart/verify'),\n",
       "   Row(timestamp=datetime.datetime(2015, 7, 22, 9, 0, 48, 110753, tzinfo=tzutc()), url='https://paytm.com:443/shop/wallet/balance?channel=web&version=2'),\n",
       "   Row(timestamp=datetime.datetime(2015, 7, 22, 9, 0, 48, 397686, tzinfo=tzutc()), url='https://paytm.com:443/api/v1/expresscart/checkout?wallet=1'),\n",
       "   Row(timestamp=datetime.datetime(2015, 7, 22, 9, 2, 4, 191031, tzinfo=tzutc()), url='https://paytm.com:443/shop/summary/1116226862'),\n",
       "   Row(timestamp=datetime.datetime(2015, 7, 22, 9, 2, 4, 805403, tzinfo=tzutc()), url='https://paytm.com:443/shop/cart?channel=web&version=2'),\n",
       "   Row(timestamp=datetime.datetime(2015, 7, 22, 9, 2, 4, 978128, tzinfo=tzutc()), url='https://paytm.com:443/shop/orderdetail/1116226862?channel=web&version=2'),\n",
       "   Row(timestamp=datetime.datetime(2015, 7, 22, 9, 2, 8, 748287, tzinfo=tzutc()), url='https://paytm.com:443/shop/summary/undefined'),\n",
       "   Row(timestamp=datetime.datetime(2015, 7, 22, 9, 2, 15, 198902, tzinfo=tzutc()), url='https://paytm.com:443/shop/orderdetail/1116226862?channel=web&version=2'),\n",
       "   Row(timestamp=datetime.datetime(2015, 7, 22, 9, 2, 15, 377853, tzinfo=tzutc()), url='https://paytm.com:443/api/user/favourite?channel=web&version=2')])]"
      ]
     },
     "execution_count": 31,
     "metadata": {},
     "output_type": "execute_result"
    }
   ],
   "source": [
    "grouped_sorted.take(5)"
   ]
  },
  {
   "cell_type": "code",
   "execution_count": 32,
   "metadata": {},
   "outputs": [],
   "source": [
    "#group timestamps and url within 15 mins into sessions\n",
    "def Sessionize(x):\n",
    "    ip_addr = x[0]\n",
    "    visit_list = x[1]\n",
    "    size = len(visit_list)\n",
    "    sessionUrls = [set([visit_list[0].url])] #store unique urls for each session\n",
    "    sessions = [[visit_list[0].timestamp]] #timestamps of each session\n",
    "    sessionLengthInMinutes = [] #length of each session\n",
    "    sessionNumUrls = [] #number of unique urls\n",
    "    \n",
    "    for i in range(1,size,1):\n",
    "        if (visit_list[i].timestamp - sessions[-1][-1]).total_seconds()/60 <= 15: #two timestamps in same session\n",
    "            sessions[-1].append(visit_list[i].timestamp)\n",
    "            sessionUrls[-1].add(visit_list[i].url)\n",
    "        else:\n",
    "            sessions.append([visit_list[i].timestamp]) #start a new session\n",
    "            sessionUrls.append(set([visit_list[i].url]))\n",
    "\n",
    "    for sess in sessions:\n",
    "        sessionLengthInMinutes.append((sess[-1]-sess[0]).total_seconds()/60)\n",
    "    \n",
    "    for sessionUrl in sessionUrls:\n",
    "        sessionNumUrls.append(len(sessionUrl))\n",
    "    \n",
    "    return session.Session(ip_addr, sessionNumUrls, sessionLengthInMinutes)"
   ]
  },
  {
   "cell_type": "code",
   "execution_count": 33,
   "metadata": {},
   "outputs": [
    {
     "data": {
      "text/plain": [
       "PythonRDD[42] at RDD at PythonRDD.scala:52"
      ]
     },
     "execution_count": 33,
     "metadata": {},
     "output_type": "execute_result"
    }
   ],
   "source": [
    "#create sessions for each each IP address\n",
    "grouped_sessionized = grouped_sorted.map(lambda x:Sessionize(x))\n",
    "grouped_sessionized.cache()"
   ]
  },
  {
   "cell_type": "code",
   "execution_count": 34,
   "metadata": {
    "scrolled": false
   },
   "outputs": [
    {
     "data": {
      "text/plain": [
       "[('220.226.206.7',\n",
       "  [7, 5, 25, 13, 42, 15, 61, 105, 50, 92, 284, 30, 163],\n",
       "  [3.0329445333333336,\n",
       "   3.0448327333333336,\n",
       "   4.056144683333334,\n",
       "   4.024646466666667,\n",
       "   34.0800585,\n",
       "   4.8486105833333335,\n",
       "   4.8596510833333335,\n",
       "   4.173275283333333,\n",
       "   13.028803033333332,\n",
       "   4.2956905,\n",
       "   25.08101915,\n",
       "   4.992088083333333,\n",
       "   3.7483676833333335]),\n",
       " ('54.251.151.39',\n",
       "  [3, 3, 3, 4, 7, 3, 3, 4, 3, 2],\n",
       "  [4.946743883333334,\n",
       "   4.976086116666666,\n",
       "   4.996719733333333,\n",
       "   4.213974966666666,\n",
       "   34.45038280000001,\n",
       "   14.581265116666666,\n",
       "   4.317303016666667,\n",
       "   4.9391726333333335,\n",
       "   4.982523366666666,\n",
       "   4.875647783333333]),\n",
       " ('119.81.61.166',\n",
       "  [3334, 1100, 1671, 489, 1739, 8016, 2786, 3928, 3637, 2841],\n",
       "  [4.950189583333333,\n",
       "   4.9740852166666665,\n",
       "   4.986045,\n",
       "   4.2217356,\n",
       "   34.4808075,\n",
       "   14.613619533333333,\n",
       "   4.337334383333333,\n",
       "   4.9999253333333336,\n",
       "   4.986084966666667,\n",
       "   4.993532816666667]),\n",
       " ('54.250.253.236',\n",
       "  [1, 1, 1, 1, 1, 1, 1, 1, 1, 1],\n",
       "  [4.07740025,\n",
       "   1.5254125,\n",
       "   4.57557975,\n",
       "   3.0549327,\n",
       "   33.58166476666666,\n",
       "   12.720924966666667,\n",
       "   4.073001533333334,\n",
       "   3.0533205,\n",
       "   3.5601389833333332,\n",
       "   2.5412049666666667]),\n",
       " ('54.255.254.236',\n",
       "  [1, 1, 1, 1, 1, 1, 1, 1, 1, 1],\n",
       "  [0.5013352666666667,\n",
       "   3.514268266666667,\n",
       "   1.5087983166666668,\n",
       "   3.514465866666667,\n",
       "   31.63171875,\n",
       "   12.5473857,\n",
       "   1.0049996333333333,\n",
       "   4.520471850000001,\n",
       "   4.5163916833333335,\n",
       "   3.0130013666666664])]"
      ]
     },
     "execution_count": 34,
     "metadata": {},
     "output_type": "execute_result"
    }
   ],
   "source": [
    "#get number of unique urls and length of sessions for each IP, sorted by number of sessions\n",
    "grouped_sessionized.map(lambda x:(x.IP, x.sessionNumUrls, x.sessionLengthInMinutes)).sortBy(lambda x:len(x[2]),ascending=False).take(5)"
   ]
  },
  {
   "cell_type": "code",
   "execution_count": 35,
   "metadata": {},
   "outputs": [],
   "source": [
    "#use average to predict the session length of given url\n",
    "import numpy as np\n",
    "session_length_pred = grouped_sessionized.map(lambda x:(x.IP,np.mean(x.sessionLengthInMinutes)))"
   ]
  },
  {
   "cell_type": "code",
   "execution_count": 36,
   "metadata": {},
   "outputs": [
    {
     "data": {
      "text/plain": [
       "[('103.29.159.138', 34.42355186666667),\n",
       " ('125.16.218.194', 34.407923399999994),\n",
       " ('14.99.226.79', 34.381827933333334),\n",
       " ('122.169.141.4', 34.3359822),\n",
       " ('14.139.220.98', 34.305317716666664),\n",
       " ('117.205.158.11', 34.287053066666665),\n",
       " ('111.93.89.14', 34.249600699999995),\n",
       " ('182.71.63.42', 34.17429933333334),\n",
       " ('223.176.3.130', 34.128679416666664),\n",
       " ('183.82.103.131', 34.045396966666665)]"
      ]
     },
     "execution_count": 36,
     "metadata": {},
     "output_type": "execute_result"
    }
   ],
   "source": [
    "#get top 10 active users, ranked by average session length\n",
    "session_length_pred.sortBy(lambda x:x[1],ascending=False).take(10)"
   ]
  },
  {
   "cell_type": "code",
   "execution_count": 37,
   "metadata": {},
   "outputs": [],
   "source": [
    "totalSession, totalSessionLength = grouped_sessionized.map(lambda x:(len(x.sessionLengthInMinutes),np.sum(x.sessionLengthInMinutes))).reduce(lambda x1,x2:(x1[0]+x2[0],x1[1]+x2[1]))"
   ]
  },
  {
   "cell_type": "code",
   "execution_count": 38,
   "metadata": {},
   "outputs": [
    {
     "data": {
      "text/plain": [
       "1.6787918246979088"
      ]
     },
     "execution_count": 38,
     "metadata": {},
     "output_type": "execute_result"
    }
   ],
   "source": [
    "totalSessionLength / totalSession #overall average session length"
   ]
  },
  {
   "cell_type": "code",
   "execution_count": 39,
   "metadata": {},
   "outputs": [],
   "source": [
    "totalSession, totalSessionUrls = grouped_sessionized.map(lambda x:(len(x.sessionNumUrls),np.sum(x.sessionNumUrls))).reduce(lambda x1,x2:(x1[0]+x2[0],x1[1]+x2[1]))"
   ]
  },
  {
   "cell_type": "code",
   "execution_count": 40,
   "metadata": {},
   "outputs": [
    {
     "data": {
      "text/plain": [
       "8.314305563074036"
      ]
     },
     "execution_count": 40,
     "metadata": {},
     "output_type": "execute_result"
    }
   ],
   "source": [
    "totalSessionUrls / float(totalSession) #overall number of unique urls per session"
   ]
  },
  {
   "cell_type": "code",
   "execution_count": 41,
   "metadata": {},
   "outputs": [],
   "source": [
    "#use average to predict number of unique urls of a given IP per session\n",
    "session_url_pred = grouped_sessionized.map(lambda x:(x.IP,np.mean(x.sessionNumUrls)))"
   ]
  },
  {
   "cell_type": "code",
   "execution_count": 42,
   "metadata": {},
   "outputs": [
    {
     "data": {
      "text/plain": [
       "[('52.74.219.71', 3211.9),\n",
       " ('119.81.61.166', 2954.1),\n",
       " ('106.51.132.54', 2609.0),\n",
       " ('106.186.23.95', 1375.8),\n",
       " ('54.169.0.163', 859.3333333333334),\n",
       " ('54.169.64.74', 825.0),\n",
       " ('54.169.20.106', 779.2857142857143),\n",
       " ('54.169.79.96', 747.3333333333334),\n",
       " ('54.169.164.205', 735.5714285714286),\n",
       " ('54.251.128.29', 702.5)]"
      ]
     },
     "execution_count": 42,
     "metadata": {},
     "output_type": "execute_result"
    }
   ],
   "source": [
    "session_url_pred.sortBy(lambda x:x[1],ascending=False).take(10)"
   ]
  },
  {
   "cell_type": "code",
   "execution_count": null,
   "metadata": {},
   "outputs": [],
   "source": []
  },
  {
   "cell_type": "code",
   "execution_count": 17,
   "metadata": {},
   "outputs": [],
   "source": [
    "###########################################################\n",
    "## Part 2\n",
    "###########################################################\n",
    "rdd = sc.textFile('data/2015_07_22_mktplace_shop_web_log_sample.log')\n",
    "rdd = rdd.map(lambda line: line.split(\" \"))\n",
    "logDF = rdd.map(lambda line: Row(timestamp=line[0], ipaddress=line[2].split(':')[0],url=line[12])).toDF()\n"
   ]
  },
  {
   "cell_type": "code",
   "execution_count": 18,
   "metadata": {},
   "outputs": [
    {
     "name": "stdout",
     "output_type": "stream",
     "text": [
      "+---------------+--------------------+--------------------+\n",
      "|      ipaddress|           timestamp|                 url|\n",
      "+---------------+--------------------+--------------------+\n",
      "|123.242.248.130|2015-07-22T09:00:...|https://paytm.com...|\n",
      "|  203.91.211.44|2015-07-22T09:00:...|https://paytm.com...|\n",
      "|    1.39.32.179|2015-07-22T09:00:...|https://paytm.com...|\n",
      "| 180.179.213.94|2015-07-22T09:00:...|https://paytm.com...|\n",
      "| 120.59.192.208|2015-07-22T09:00:...|https://paytm.com...|\n",
      "| 117.239.195.66|2015-07-22T09:00:...|https://paytm.com...|\n",
      "|  101.60.186.26|2015-07-22T09:00:...|https://paytm.com...|\n",
      "|   59.183.41.47|2015-07-22T09:00:...|https://paytm.com...|\n",
      "| 117.239.195.66|2015-07-22T09:00:...|https://paytm.com...|\n",
      "|  183.83.237.83|2015-07-22T09:00:...|https://paytm.com...|\n",
      "|  117.195.91.36|2015-07-22T09:00:...|https://paytm.com...|\n",
      "|122.180.245.251|2015-07-22T09:00:...|https://paytm.com...|\n",
      "| 117.198.215.20|2015-07-22T09:00:...|https://paytm.com...|\n",
      "| 223.176.154.91|2015-07-22T09:00:...|https://paytm.com...|\n",
      "|223.225.236.110|2015-07-22T09:00:...|https://paytm.com...|\n",
      "| 117.241.97.140|2015-07-22T09:00:...|https://paytm.com...|\n",
      "|117.205.247.140|2015-07-22T09:00:...|https://paytm.com...|\n",
      "|   14.102.53.58|2015-07-22T09:00:...|https://paytm.com...|\n",
      "|  203.200.99.67|2015-07-22T09:00:...|https://paytm.com...|\n",
      "|107.167.109.204|2015-07-22T09:00:...|https://paytm.com...|\n",
      "+---------------+--------------------+--------------------+\n",
      "only showing top 20 rows\n",
      "\n"
     ]
    }
   ],
   "source": [
    "logDF.show(20)"
   ]
  },
  {
   "cell_type": "code",
   "execution_count": 19,
   "metadata": {},
   "outputs": [],
   "source": [
    "logDF = logDF.withColumn('timestamp', logDF['timestamp'].cast(TimestampType()))\n",
    "loadperMinDF = logDF.select(window(\"timestamp\", \"60 seconds\").alias('timewindow'),'timestamp',\"ipaddress\").groupBy('timewindow').count().withColumnRenamed('count', 'HitperMin')"
   ]
  },
  {
   "cell_type": "code",
   "execution_count": 20,
   "metadata": {},
   "outputs": [],
   "source": [
    "loadperMinPandasDf = loadperMinDF.sort(\"timewindow.start\").toPandas()"
   ]
  },
  {
   "cell_type": "code",
   "execution_count": 21,
   "metadata": {},
   "outputs": [],
   "source": [
    "loadperMinPandasDf.index = [s[0] for s in loadperMinPandasDf['timewindow']]\n",
    "loadperMinPandasDf.drop(['timewindow'],1,inplace=True)\n",
    "loadperMinFilled = loadperMinPandasDf.asfreq('min').fillna(0)"
   ]
  },
  {
   "cell_type": "code",
   "execution_count": 23,
   "metadata": {},
   "outputs": [
    {
     "data": {
      "image/png": "[encoded data removed]",
      "text/plain": [
       "<Figure size 432x288 with 1 Axes>"
      ]
     },
     "metadata": {
      "needs_background": "light"
     },
     "output_type": "display_data"
    }
   ],
   "source": [
    "#plot hits per minute\n",
    "import matplotlib.pyplot as plt \n",
    "loadperMinFilled.plot()\n",
    "plt.show()"
   ]
  },
  {
   "cell_type": "code",
   "execution_count": 24,
   "metadata": {},
   "outputs": [
    {
     "data": {
      "image/png": "[encoded data removed]",
      "text/plain": [
       "<Figure size 432x288 with 1 Axes>"
      ]
     },
     "metadata": {
      "needs_background": "light"
     },
     "output_type": "display_data"
    }
   ],
   "source": [
    "#plot y(t) vs y(t+1)\n",
    "from pandas.plotting import lag_plot\n",
    "lag_plot(loadperMinFilled)\n",
    "plt.show()"
   ]
  },
  {
   "cell_type": "code",
   "execution_count": null,
   "metadata": {},
   "outputs": [],
   "source": [
    "from pandas.plotting import autocorrelation_plot\n",
    "autocorrelation_plot(loadperMinFilled)"
   ]
  },
  {
   "cell_type": "code",
   "execution_count": null,
   "metadata": {},
   "outputs": [],
   "source": [
    "#plot y(t) - y(t-1)\n",
    "loadperMinFilled['HitperMin'].diff().dropna().plot()"
   ]
  },
  {
   "cell_type": "code",
   "execution_count": null,
   "metadata": {},
   "outputs": [],
   "source": [
    "#taking sqrt transformation then differencing, try to make the time series stationary in order to use AR or MA model\n",
    "\n",
    "import numpy as np\n",
    "loadperMinFilled['#HitperMin_sqrt'] = np.sqrt(loadperMinFilled['HitperMin'])\n",
    "loadperMinFilled['#HitperMin_sqrt_diff'] = loadperMinFilled['#HitperMin_sqrt'].diff()\n",
    "loadperMinFilled['#HitperMin_sqrt_diff'].dropna().plot()\n",
    "plt.show()"
   ]
  },
  {
   "cell_type": "code",
   "execution_count": null,
   "metadata": {},
   "outputs": [],
   "source": [
    "#the time series is not stationary after transformation and differencing, use y(t-1) to predict y(t)\n",
    "y_next_pred = loadperMinFilled['HitperMin'][1:]/60"
   ]
  },
  {
   "cell_type": "code",
   "execution_count": null,
   "metadata": {},
   "outputs": [],
   "source": [
    "y_next_pred"
   ]
  },
  {
   "cell_type": "code",
   "execution_count": null,
   "metadata": {},
   "outputs": [],
   "source": []
  }
 ],
 "metadata": {
  "kernelspec": {
   "display_name": "Python 3",
   "language": "python",
   "name": "python3"
  },
  "language_info": {
   "codemirror_mode": {
    "name": "ipython",
    "version": 3
   },
   "file_extension": ".py",
   "mimetype": "text/x-python",
   "name": "python",
   "nbconvert_exporter": "python",
   "pygments_lexer": "ipython3",
   "version": "3.7.0"
  }
 },
 "nbformat": 4,
 "nbformat_minor": 2
}
